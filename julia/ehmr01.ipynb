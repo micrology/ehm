{
 "cells": [
  {
   "cell_type": "code",
   "execution_count": 26,
   "id": "243db359",
   "metadata": {},
   "outputs": [],
   "source": [
    "size = 100;\n",
    "housingDensity=0.7;\n",
    "population=trunc(Int,size*size*0.8);"
   ]
  },
  {
   "cell_type": "markdown",
   "id": "a3a5c470",
   "metadata": {},
   "source": [
    "## Area\n"
   ]
  },
  {
   "cell_type": "code",
   "execution_count": 27,
   "id": "1d4e821b",
   "metadata": {},
   "outputs": [],
   "source": [
    "\n",
    "mutable struct BuildingPlot\n",
    "    xPos::Int8\n",
    "    yPos::Int8\n",
    "    building\n",
    "end\n",
    "\n",
    "\n",
    "\n",
    "#2d Matrix of Building Plots\n",
    "area = [BuildingPlot(x,y,nothing) for x in 1:size, y in 1:size];\n",
    "\n",
    "#List of vacant plots [ all initally] \n",
    "vacantPlots = [ (div(x,size)+1,x%size+1) for x in 0:(size*size)-1]; # Julia array start at 1 \n",
    "numVacentPlots = length(vacantPlots);\n",
    "\n",
    "function getVacentPlot()\n",
    "    c = rand(1:numVacentPlots)\n",
    "    plot = vacantPlots[c]\n",
    "    deleteat!(vacantPlots,c)\n",
    "    global numVacentPlots-=1\n",
    "    return area[plot[1],plot[2]]\n",
    "end;"
   ]
  },
  {
   "cell_type": "markdown",
   "id": "1bc9a80e",
   "metadata": {},
   "source": [
    "## Housing"
   ]
  },
  {
   "cell_type": "code",
   "execution_count": 28,
   "id": "796e1d54",
   "metadata": {},
   "outputs": [],
   "source": [
    "\n",
    "mutable struct House\n",
    "    id::String\n",
    "    place::BuildingPlot\n",
    "    owner\n",
    "end\n",
    "\n",
    "houseIdCount = 0\n",
    "\n",
    "# List of all houses and vacant houses [ initally all houses are vacant]\n",
    "houses = [];\n",
    "emptyHouses=[]\n",
    "\n",
    "function buildHouse()\n",
    "    if numVacentPlots>0\n",
    "        plot = getVacentPlot()\n",
    "        house = House(string(\"H-\",string(houseIdCount)),plot,nothing)\n",
    "        global houseIdCount+=1\n",
    "        push!(houses,house)\n",
    "        push!(emptyHouses,house)\n",
    "        plot.building = house\n",
    "        return house\n",
    "    end\n",
    "end;\n",
    "\n",
    "function initHousing()\n",
    "    for _ in 1:trunc(Int,size*size*housingDensity)\n",
    "        buildHouse();\n",
    "    end\n",
    "end;\n",
    "    \n",
    "    "
   ]
  },
  {
   "cell_type": "markdown",
   "id": "bae194f1",
   "metadata": {},
   "source": [
    "## Household"
   ]
  },
  {
   "cell_type": "code",
   "execution_count": 29,
   "id": "7bf81278",
   "metadata": {},
   "outputs": [],
   "source": [
    "mutable struct HouseHold\n",
    "    id::String\n",
    "    income::Int64\n",
    "    home\n",
    "    property\n",
    "end\n",
    "householdIdCount=0\n",
    "\n",
    "#List of all households and homless households [ initally all households are homeless]\n",
    "houseHolds=[]\n",
    "homeless=[]\n",
    "function initHouseholds()\n",
    "    for _ in 1: population\n",
    "        household = HouseHold(string(\"H-\",string(householdIdCount)),0,nothing,Array{House})\n",
    "        global householdIdCount+=1\n",
    "        push!(houseHolds,household)\n",
    "        push!(homeless,household)\n",
    "    end\n",
    "end;"
   ]
  },
  {
   "cell_type": "code",
   "execution_count": 30,
   "id": "5781e58b",
   "metadata": {},
   "outputs": [],
   "source": [
    "initHousing()\n",
    "initHouseholds()"
   ]
  },
  {
   "cell_type": "code",
   "execution_count": 31,
   "id": "ffb23119",
   "metadata": {},
   "outputs": [
    {
     "data": {
      "text/plain": [
       "4-element Vector{Any}:\n",
       " HouseHold(\"H-0\", 0, nothing, Array{House})\n",
       " HouseHold(\"H-1\", 0, nothing, Array{House})\n",
       " HouseHold(\"H-2\", 0, nothing, Array{House})\n",
       " HouseHold(\"H-3\", 0, nothing, Array{House})"
      ]
     },
     "execution_count": 31,
     "metadata": {},
     "output_type": "execute_result"
    }
   ],
   "source": [
    "houseHolds[1:4]"
   ]
  },
  {
   "cell_type": "code",
   "execution_count": null,
   "id": "6cb594b7",
   "metadata": {},
   "outputs": [],
   "source": []
  }
 ],
 "metadata": {
  "kernelspec": {
   "display_name": "Julia 1.8.5",
   "language": "julia",
   "name": "julia-1.8"
  },
  "language_info": {
   "file_extension": ".jl",
   "mimetype": "application/julia",
   "name": "julia",
   "version": "1.8.5"
  }
 },
 "nbformat": 4,
 "nbformat_minor": 5
}
