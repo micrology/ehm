{
 "cells": [
  {
   "cell_type": "code",
   "execution_count": 52,
   "id": "796e1d54",
   "metadata": {},
   "outputs": [],
   "source": [
    "\n",
    "mutable struct House\n",
    "    id::String\n",
    "    place\n",
    "end"
   ]
  },
  {
   "cell_type": "code",
   "execution_count": 53,
   "id": "1d4e821b",
   "metadata": {},
   "outputs": [],
   "source": [
    "size = 10\n",
    "mutable struct BuildingPlot\n",
    "    xPos::Int8\n",
    "    yPos::Int8\n",
    "    building\n",
    "end\n",
    "area = [BuildingPlot(x,y,nothing) for x in 1:size, y in 1:size];"
   ]
  },
  {
   "cell_type": "code",
   "execution_count": 54,
   "id": "d3949013",
   "metadata": {},
   "outputs": [],
   "source": [
    "area[2,2].building = House(\"h1\",test[2,2]);"
   ]
  },
  {
   "cell_type": "code",
   "execution_count": 55,
   "id": "ebec3f07",
   "metadata": {},
   "outputs": [
    {
     "data": {
      "text/plain": [
       "BuildingPlot(2, 2, House(\"h1\", BuildingPlot(2, 2, House(\"h1\", BuildingPlot(#= circular reference @-2 =#)))))"
      ]
     },
     "execution_count": 55,
     "metadata": {},
     "output_type": "execute_result"
    }
   ],
   "source": [
    "area[2,2]"
   ]
  }
 ],
 "metadata": {
  "kernelspec": {
   "display_name": "Julia 1.8.5",
   "language": "julia",
   "name": "julia-1.8"
  },
  "language_info": {
   "file_extension": ".jl",
   "mimetype": "application/julia",
   "name": "julia",
   "version": "1.8.5"
  }
 },
 "nbformat": 4,
 "nbformat_minor": 5
}
